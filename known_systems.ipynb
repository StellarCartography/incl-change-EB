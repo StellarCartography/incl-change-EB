{
 "cells": [
  {
   "cell_type": "markdown",
   "metadata": {},
   "source": [
    " Let's go through the known systems in [Table 1](https://www.aanda.org/articles/aa/full_html/2018/01/aa30655-17/T1.html) of Jurysek+(2018)"
   ]
  },
  {
   "cell_type": "code",
   "execution_count": null,
   "metadata": {},
   "outputs": [],
   "source": []
  },
  {
   "cell_type": "code",
   "execution_count": null,
   "metadata": {},
   "outputs": [],
   "source": []
  },
  {
   "cell_type": "code",
   "execution_count": 3,
   "metadata": {},
   "outputs": [],
   "source": [
    "# 11 systems listed in their Table 1\n",
    "systems = ['RW Per', 'IU Aur', 'AH Cep', 'AY Mus', \n",
    "           'SV Gem', 'V669 Cyg', 'V685 Cen', \n",
    "           'V907 Sco', 'SS Lac', 'QX Cas', 'HS Hya']\n",
    "\n",
    "P_EB = [13.1989, 1.81147, 1.7747, 3.2055, 4.0061, 1.5515, \n",
    "        1.19096, 3.77628, 14.4161, 6.004709, 1.568024]\n"
   ]
  },
  {
   "cell_type": "markdown",
   "metadata": {},
   "source": [
    "I already know about some... \n",
    "\n",
    "- [HS Hya](https://github.com/jradavenport/HS-Hya) (yes, the final eclipses!)\n",
    "- [IU Aur](IU_Aur.ipynb) (yes, still eclipsing)\n",
    "- [QX Cas](https://github.com/jradavenport/QX-Cas) (yes, but not eclipsing, though new eclipses present...)\n",
    "- V907 Sco (yes, not sure if eclipsing still)\n",
    "\n",
    "\n",
    "1. Go through each system. Check [MAST](https://mast.stsci.edu/portal/Mashup/Clients/Mast/Portal.html) (has 2-min data), data could be pulled with [lightkurve](https://docs.lightkurve.org/tutorials/), \n",
    "2. if not check for general coverage with the [Web Viewing Tool](https://heasarc.gsfc.nasa.gov/cgi-bin/tess/webtess/wtv.py) \n",
    "3. and try to generate a 30-min lightcurve from pixel-level data with [Eleanor](https://adina.feinste.in/eleanor/getting_started/tutorial.html)\n",
    "4. For every system w/ TESS data, make some basic light curves. Is eclipse still there? Is there rotation?\n",
    "5. For each, find best paper(s) that characterize the system. Start w/ references in Table 1"
   ]
  },
  {
   "cell_type": "code",
   "execution_count": null,
   "metadata": {},
   "outputs": [],
   "source": []
  }
 ],
 "metadata": {
  "kernelspec": {
   "display_name": "Python 3",
   "language": "python",
   "name": "python3"
  },
  "language_info": {
   "codemirror_mode": {
    "name": "ipython",
    "version": 3
   },
   "file_extension": ".py",
   "mimetype": "text/x-python",
   "name": "python",
   "nbconvert_exporter": "python",
   "pygments_lexer": "ipython3",
   "version": "3.7.4"
  }
 },
 "nbformat": 4,
 "nbformat_minor": 4
}
